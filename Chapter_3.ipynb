{
  "nbformat": 4,
  "nbformat_minor": 0,
  "metadata": {
    "colab": {
      "name": "Chapter_3.ipynb",
      "provenance": [],
      "collapsed_sections": []
    },
    "kernelspec": {
      "name": "python3",
      "display_name": "Python 3"
    }
  },
  "cells": [
    {
      "cell_type": "code",
      "metadata": {
        "id": "6wJHEYKb3NrF",
        "colab_type": "code",
        "colab": {}
      },
      "source": [
        "#ba3a\n",
        "def k_mer_composition(k,s):\n",
        "  pattern = []\n",
        "  leng = len(s)\n",
        "  for i in range(leng-k+1):\n",
        "    ss = s[i:i+k]\n",
        "    pattern.append(ss)\n",
        "  pattern.sort()\n",
        "  print(pattern)"
      ],
      "execution_count": 0,
      "outputs": []
    },
    {
      "cell_type": "code",
      "metadata": {
        "id": "aYm5v9SB3ax9",
        "colab_type": "code",
        "colab": {
          "base_uri": "https://localhost:8080/",
          "height": 34
        },
        "outputId": "6ad19f77-df52-406f-e61d-24df40e89a09"
      },
      "source": [
        "k_mer_composition(5,'CAATCCAAC')"
      ],
      "execution_count": 2,
      "outputs": [
        {
          "output_type": "stream",
          "text": [
            "['AATCC', 'ATCCA', 'CAATC', 'CCAAC', 'TCCAA']\n"
          ],
          "name": "stdout"
        }
      ]
    },
    {
      "cell_type": "code",
      "metadata": {
        "id": "_6oYW8ir3eqi",
        "colab_type": "code",
        "colab": {}
      },
      "source": [
        "#ba3b\n",
        "seq = ['ACCGA','CCGAA','CGAAG','GAAGC','AAGCT']\n",
        "def reconstruct_string(seq):\n",
        "  string = \"\"\n",
        "  for i in range(len(seq)):\n",
        "    string += seq[i][-1]\n",
        "    new_str = seq[0][:4] + string\n",
        "  print(new_str)"
      ],
      "execution_count": 0,
      "outputs": []
    },
    {
      "cell_type": "code",
      "metadata": {
        "id": "tvRu35ww3hg_",
        "colab_type": "code",
        "colab": {
          "base_uri": "https://localhost:8080/",
          "height": 34
        },
        "outputId": "3d8dcb77-03bd-4861-b3f1-3947df7e3239"
      },
      "source": [
        "reconstruct_string(seq)"
      ],
      "execution_count": 4,
      "outputs": [
        {
          "output_type": "stream",
          "text": [
            "ACCGAAGCT\n"
          ],
          "name": "stdout"
        }
      ]
    },
    {
      "cell_type": "code",
      "metadata": {
        "id": "bRYL148Y3kEe",
        "colab_type": "code",
        "colab": {}
      },
      "source": [
        "#ba3c\n",
        "seq = ['ATGCG','GCATG','CATGC','AGGCA','GGCAT']\n",
        "def overlap_graph(seq):\n",
        "  seq.sort()\n",
        "  for i in range(0, len(seq), 1):\n",
        "    for j in range(1, len(seq), 1):\n",
        "      if seq[i][-4:] == seq[j][:4]:\n",
        "        print(seq[i] + '->' + seq[j] )"
      ],
      "execution_count": 0,
      "outputs": []
    },
    {
      "cell_type": "code",
      "metadata": {
        "id": "2B34K03B3m-g",
        "colab_type": "code",
        "colab": {
          "base_uri": "https://localhost:8080/",
          "height": 85
        },
        "outputId": "6625605a-ba06-4de6-dce3-b05189a2b18b"
      },
      "source": [
        "overlap_graph(seq)"
      ],
      "execution_count": 6,
      "outputs": [
        {
          "output_type": "stream",
          "text": [
            "AGGCA->GGCAT\n",
            "CATGC->ATGCG\n",
            "GCATG->CATGC\n",
            "GGCAT->GCATG\n"
          ],
          "name": "stdout"
        }
      ]
    },
    {
      "cell_type": "code",
      "metadata": {
        "id": "Lg3aNRBV3prw",
        "colab_type": "code",
        "colab": {}
      },
      "source": [
        "#ba3d\n",
        "from collections import defaultdict\n",
        "def de_bruign(k,s):\n",
        "  lst = []\n",
        "  patterns = []\n",
        "  ans = defaultdict(list)\n",
        "  leng = len(s)\n",
        "  for i in range(leng-k+1):\n",
        "    ss = s[i:i+k]\n",
        "    patterns.append(ss)\n",
        "  for pattern in patterns:\n",
        "    lst.append((pattern[:3],pattern[1:]))\n",
        "  lst.sort()\n",
        "  for a,b in lst:\n",
        "    ans[a].append(b)\n",
        "  for a,b in ans.items():\n",
        "    print(a,b)"
      ],
      "execution_count": 0,
      "outputs": []
    },
    {
      "cell_type": "code",
      "metadata": {
        "id": "rySg6Kom3skg",
        "colab_type": "code",
        "colab": {
          "base_uri": "https://localhost:8080/",
          "height": 153
        },
        "outputId": "2282e954-5675-43a7-9062-e0cc42086cfa"
      },
      "source": [
        "de_bruign(4,'AAGATTCTCTAC')"
      ],
      "execution_count": 8,
      "outputs": [
        {
          "output_type": "stream",
          "text": [
            "AAG ['AGA']\n",
            "AGA ['GAT']\n",
            "ATT ['TTC']\n",
            "CTA ['TAC']\n",
            "CTC ['TCT']\n",
            "GAT ['ATT']\n",
            "TCT ['CTA', 'CTC']\n",
            "TTC ['TCT']\n"
          ],
          "name": "stdout"
        }
      ]
    },
    {
      "cell_type": "code",
      "metadata": {
        "id": "dZE9I8oL3vJ0",
        "colab_type": "code",
        "colab": {}
      },
      "source": [
        "#ba3e\n",
        "from collections import defaultdict\n",
        "seq = ['GAGG','CAGG','GGGG','GGGA','CAGG','AGGG','GGAG']\n",
        "def de_bruign_of_k_mers(seq):\n",
        "  lst = []\n",
        "  ans = defaultdict(list)\n",
        "  for item in seq:\n",
        "    lst.append((item[:3],item[1:]))\n",
        "  lst.sort()\n",
        "  for a,b in lst:\n",
        "    ans[a].append(b)\n",
        "  for a,b in ans.items():\n",
        "    print(a,b)"
      ],
      "execution_count": 0,
      "outputs": []
    },
    {
      "cell_type": "code",
      "metadata": {
        "id": "6OudfpWb3zC0",
        "colab_type": "code",
        "colab": {
          "base_uri": "https://localhost:8080/",
          "height": 102
        },
        "outputId": "b509f19c-65b8-4560-9afb-8e304b472835"
      },
      "source": [
        "de_bruign_of_k_mers(seq)"
      ],
      "execution_count": 10,
      "outputs": [
        {
          "output_type": "stream",
          "text": [
            "AGG ['GGG']\n",
            "CAG ['AGG', 'AGG']\n",
            "GAG ['AGG']\n",
            "GGA ['GAG']\n",
            "GGG ['GGA', 'GGG']\n"
          ],
          "name": "stdout"
        }
      ]
    },
    {
      "cell_type": "code",
      "metadata": {
        "id": "OYtDCnh831d0",
        "colab_type": "code",
        "colab": {}
      },
      "source": [
        ""
      ],
      "execution_count": 0,
      "outputs": []
    }
  ]
}