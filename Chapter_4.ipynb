{
  "nbformat": 4,
  "nbformat_minor": 0,
  "metadata": {
    "colab": {
      "name": "Chapter_4.ipynb",
      "provenance": []
    },
    "kernelspec": {
      "name": "python3",
      "display_name": "Python 3"
    }
  },
  "cells": [
    {
      "cell_type": "code",
      "metadata": {
        "id": "4VMH7fxiL9pM",
        "colab_type": "code",
        "colab": {
          "base_uri": "https://localhost:8080/",
          "height": 34
        },
        "outputId": "1c93d34b-2361-44c6-b5fb-a344e0b285c6"
      },
      "source": [
        "#ba4a\n",
        "#ba4a\n",
        "dna_codontable = {\"UUU\":\"F\", \"UUC\":\"F\", \"UUA\":\"L\", \"UUG\":\"L\",\n",
        "    \"UCU\":\"S\", \"UCC\":\"s\", \"UCA\":\"S\", \"UCG\":\"S\",\n",
        "    \"UAU\":\"Y\", \"UAC\":\"Y\", \"UAA\":\"STOP\", \"UAG\":\"STOP\",\n",
        "    \"UGU\":\"C\", \"UGC\":\"C\", \"UGA\":\"STOP\", \"UGG\":\"W\",\n",
        "    \"CUU\":\"L\", \"CUC\":\"L\", \"CUA\":\"L\", \"CUG\":\"L\",\n",
        "    \"CCU\":\"P\", \"CCC\":\"P\", \"CCA\":\"P\", \"CCG\":\"P\",\n",
        "    \"CAU\":\"H\", \"CAC\":\"H\", \"CAA\":\"Q\", \"CAG\":\"Q\",\n",
        "    \"CGU\":\"R\", \"CGC\":\"R\", \"CGA\":\"R\", \"CGG\":\"R\",\n",
        "    \"AUU\":\"I\", \"AUC\":\"I\", \"AUA\":\"I\", \"AUG\":\"M\",\n",
        "    \"ACU\":\"T\", \"ACC\":\"T\", \"ACA\":\"T\", \"ACG\":\"T\",\n",
        "    \"AAU\":\"N\", \"AAC\":\"N\", \"AAA\":\"K\", \"AAG\":\"K\",\n",
        "    \"AGU\":\"S\", \"AGC\":\"S\", \"AGA\":\"R\", \"AGG\":\"R\",\n",
        "    \"GUU\":\"V\", \"GUC\":\"V\", \"GUA\":\"V\", \"GUG\":\"V\",\n",
        "    \"GCU\":\"A\", \"GCC\":\"A\", \"GCA\":\"A\", \"GCG\":\"A\",\n",
        "    \"GAU\":\"D\", \"GAC\":\"D\", \"GAA\":\"E\", \"GAG\":\"E\",\n",
        "    \"GGU\":\"G\", \"GGC\":\"G\", \"GGA\":\"G\", \"GGG\":\"G\",}\n",
        "seq = \"AUGGCCAUGGCGCCCAGAACUGAGAUCAAUAGUACCCGUAUUAACGGGUGA\"\n",
        "strng = \"\"\n",
        "for i in range(0,len(seq),3):\n",
        "  s = seq[i:i+3]\n",
        "  if dna_codontable[s] != \"STOP\":\n",
        "    strng += dna_codontable[s]\n",
        "print(strng)"
      ],
      "execution_count": 2,
      "outputs": [
        {
          "output_type": "stream",
          "text": [
            "MAMAPRTEINSTRING\n"
          ],
          "name": "stdout"
        }
      ]
    },
    {
      "cell_type": "code",
      "metadata": {
        "id": "_yPN5sbANegC",
        "colab_type": "code",
        "colab": {
          "base_uri": "https://localhost:8080/",
          "height": 51
        },
        "outputId": "a1d98b5e-0dbd-4631-c2f8-caaf8813b184"
      },
      "source": [
        "#ba4b\n",
        "#ba4b\n",
        "def transcribe(dna):\n",
        "  rna = \"\"\n",
        "  for x in dna:\n",
        "    if x == \"T\":\n",
        "      rna += \"U\"\n",
        "    else:\n",
        "      rna += x\n",
        "  return rna\n",
        "def reverse_transcribe(dna):\n",
        "  rna = \"\"\n",
        "  for x in dna:\n",
        "    if x == \"T\":\n",
        "      rna += \"A\" + rna\n",
        "    elif x == \"A\":\n",
        "      rna += \"U\" + rna\n",
        "    elif x == \"C\":\n",
        "      rna += \"G\" + rna\n",
        "    elif x == \"G\":\n",
        "      rna += \"C\"+ rna\n",
        "  return rna\n",
        "dna_codontable = {\"UUU\":\"F\", \"UUC\":\"F\", \"UUA\":\"L\", \"UUG\":\"L\",\n",
        "    \"UCU\":\"S\", \"UCC\":\"s\", \"UCA\":\"S\", \"UCG\":\"S\",\n",
        "    \"UAU\":\"Y\", \"UAC\":\"Y\", \"UAA\":\"STOP\", \"UAG\":\"STOP\",\n",
        "    \"UGU\":\"C\", \"UGC\":\"C\", \"UGA\":\"STOP\", \"UGG\":\"W\",\n",
        "    \"CUU\":\"L\", \"CUC\":\"L\", \"CUA\":\"L\", \"CUG\":\"L\",\n",
        "    \"CCU\":\"P\", \"CCC\":\"P\", \"CCA\":\"P\", \"CCG\":\"P\",\n",
        "    \"CAU\":\"H\", \"CAC\":\"H\", \"CAA\":\"Q\", \"CAG\":\"Q\",\n",
        "    \"CGU\":\"R\", \"CGC\":\"R\", \"CGA\":\"R\", \"CGG\":\"R\",\n",
        "    \"AUU\":\"I\", \"AUC\":\"I\", \"AUA\":\"I\", \"AUG\":\"M\",\n",
        "    \"ACU\":\"T\", \"ACC\":\"T\", \"ACA\":\"T\", \"ACG\":\"T\",\n",
        "    \"AAU\":\"N\", \"AAC\":\"N\", \"AAA\":\"K\", \"AAG\":\"K\",\n",
        "    \"AGU\":\"S\", \"AGC\":\"S\", \"AGA\":\"R\", \"AGG\":\"R\",\n",
        "    \"GUU\":\"V\", \"GUC\":\"V\", \"GUA\":\"V\", \"GUG\":\"V\",\n",
        "    \"GCU\":\"A\", \"GCC\":\"A\", \"GCA\":\"A\", \"GCG\":\"A\",\n",
        "    \"GAU\":\"D\", \"GAC\":\"D\", \"GAA\":\"E\", \"GAG\":\"E\",\n",
        "    \"GGU\":\"G\", \"GGC\":\"G\", \"GGA\":\"G\", \"GGG\":\"G\",}\n",
        "def protein(dna):\n",
        "  pep = \"\"\n",
        "  for i in range(0,len(dna),3):\n",
        "    s = dna[i:i+3]\n",
        "    if dna_codontable[s] != 'STOP':\n",
        "      pep += dna_codontable[s]\n",
        "  return pep\n",
        "\n",
        "dna = \"ATGGCCATGGCCCCCAGAACTGAGATCAATAGTACCCGTATTAACGGGTGA\"\n",
        "peptide = \"MA\"\n",
        "k = len(peptide)\n",
        "for i in range(len(dna)- 3*k + 1):\n",
        "  p = protein(transcribe(dna[i:i+3*k]))\n",
        "  #print(p)\n",
        "  if p == peptide or p == reverse_transcribe(p):\n",
        "    print(dna[i:i+ 3*k])\n",
        "  # p = protein(reverse_transcribe(dna[i:i+3*k]))\n",
        "  # print(p)\n",
        "  # if p == peptide:\n",
        "  #   print(dna[i:i+ 3*k])"
      ],
      "execution_count": 4,
      "outputs": [
        {
          "output_type": "stream",
          "text": [
            "ATGGCC\n",
            "ATGGCC\n"
          ],
          "name": "stdout"
        }
      ]
    },
    {
      "cell_type": "code",
      "metadata": {
        "id": "mpJIUPqfN_PK",
        "colab_type": "code",
        "colab": {
          "base_uri": "https://localhost:8080/",
          "height": 34
        },
        "outputId": "34c9b52c-58df-4b73-bd25-03d4c070610e"
      },
      "source": [
        "#ba4c\n",
        "mass = {'G':57,'A':71,'S':87,'P':97,'V':99,'T':101,'C':103,'I':113,'L':113,'N':114,'D':115,'k':128,'Q':128,'E':129,'M':131,'H':137,'F':147,'R':156,'Y':163,'W':186}\n",
        "pep = \"LEQN\"\n",
        "pep_2 = pep+pep\n",
        "def total_mass(pep):\n",
        "  total = 0\n",
        "  for amino_acid in pep:\n",
        "    total = total + mass[amino_acid]\n",
        "  return total\n",
        "spec = [0,total_mass(pep)]\n",
        "for k in range(1,len(pep)):\n",
        "  for n in range(len(pep)):\n",
        "    subpep = pep_2[n:n+k]\n",
        "    spec.append(total_mass(subpep))\n",
        "spec.sort()\n",
        "print(spec)"
      ],
      "execution_count": 5,
      "outputs": [
        {
          "output_type": "stream",
          "text": [
            "[0, 113, 114, 128, 129, 227, 242, 242, 257, 355, 356, 370, 371, 484]\n"
          ],
          "name": "stdout"
        }
      ]
    },
    {
      "cell_type": "code",
      "metadata": {
        "id": "V5TRphS3ORbZ",
        "colab_type": "code",
        "colab": {
          "base_uri": "https://localhost:8080/",
          "height": 34
        },
        "outputId": "c7c5ad25-4d5d-4649-e893-7c4374026bd7"
      },
      "source": [
        "#ba4d\n",
        "mass = [57, 71, 87, 97, 99, 101, 103, 113, 114, 115, 128, 129, 131, 137, 147, 156, 163, 186]\n",
        "n = 1024\n",
        "dp = [0] * (n+1)\n",
        "dp[0] = 1\n",
        "for i in range(n+1):\n",
        "  for j in range(len(mass)):\n",
        "    if i-mass[j] >= 0:\n",
        "      dp[i] += dp[i-mass[j]]\n",
        "print(dp[n])"
      ],
      "execution_count": 6,
      "outputs": [
        {
          "output_type": "stream",
          "text": [
            "14712706211\n"
          ],
          "name": "stdout"
        }
      ]
    },
    {
      "cell_type": "code",
      "metadata": {
        "id": "XgALhZW8ObaA",
        "colab_type": "code",
        "colab": {
          "base_uri": "https://localhost:8080/",
          "height": 34
        },
        "outputId": "f24beb74-1a83-4caa-e01e-4d947dc79c2b"
      },
      "source": [
        "#ba4f\n",
        "mass = {'G':57,'A':71,'S':87,'P':97,'V':99,'T':101,'C':103,'I':113,'L':113,'N':114,'D':115,'k':128,'Q':128,'E':129,'M':131,'H':137,'F':147,'R':156,'Y':163,'W':186}\n",
        "exp = [0,99,113,114,128,227,257,299,355,356,370,371,484]\n",
        "# for i in range(len(spec)-len(exp)):\n",
        "#   exp.append(0)\n",
        "pep = \"LEQN\"\n",
        "pep_2 = pep+pep\n",
        "cnt = 0\n",
        "def total_mass(pep):\n",
        "  total = 0\n",
        "  for amino_acid in pep:\n",
        "    total = total + mass[amino_acid]\n",
        "  return total\n",
        "spec = [0,total_mass(pep)]\n",
        "for k in range(1,len(pep)):\n",
        "  for n in range(len(pep)):\n",
        "    subpep = pep_2[n:n+k]\n",
        "    spec.append(total_mass(subpep))\n",
        "spec.sort()\n",
        "# for i in range(len(spec)):\n",
        "#   if spec[i] == exp[i]:\n",
        "#     cnt += 1\n",
        "# print(exp)\n",
        "# print(spec)\n",
        "for num in spec:\n",
        "  if num in exp:\n",
        "    cnt += 1\n",
        "print(cnt)"
      ],
      "execution_count": 7,
      "outputs": [
        {
          "output_type": "stream",
          "text": [
            "11\n"
          ],
          "name": "stdout"
        }
      ]
    },
    {
      "cell_type": "code",
      "metadata": {
        "id": "TrmsTSC_PHgC",
        "colab_type": "code",
        "colab": {
          "base_uri": "https://localhost:8080/",
          "height": 34
        },
        "outputId": "146e2c3e-fc32-4959-c0c7-52fe17eb1a0a"
      },
      "source": [
        "#ba4h\n",
        "from collections import Counter\n",
        "spec = [323, 186, 137, 0]\n",
        "lst = []\n",
        "o = []\n",
        "count = 1\n",
        "for i in range(len(spec)):\n",
        "  for j in range(i+1,len(spec),1):\n",
        "    lst.append(spec[i] - spec[j])\n",
        "c = Counter(lst)\n",
        "#print(c.most_common())  creates tuples of most common to least common element\n",
        "for i,cnt in c.most_common():\n",
        "  for item in [i]*cnt:\n",
        "    o.append(item)\n",
        "print(o)"
      ],
      "execution_count": 8,
      "outputs": [
        {
          "output_type": "stream",
          "text": [
            "[137, 137, 186, 186, 323, 49]\n"
          ],
          "name": "stdout"
        }
      ]
    },
    {
      "cell_type": "code",
      "metadata": {
        "id": "h7t6jWkbPNxT",
        "colab_type": "code",
        "colab": {}
      },
      "source": [
        ""
      ],
      "execution_count": 0,
      "outputs": []
    }
  ]
}