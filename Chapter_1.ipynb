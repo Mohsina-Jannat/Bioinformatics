{
  "nbformat": 4,
  "nbformat_minor": 0,
  "metadata": {
    "colab": {
      "name": "Chapter_1.ipynb",
      "provenance": [],
      "collapsed_sections": []
    },
    "kernelspec": {
      "name": "python3",
      "display_name": "Python 3"
    }
  },
  "cells": [
    {
      "cell_type": "code",
      "metadata": {
        "id": "CwzFr2Ukqr7K",
        "colab_type": "code",
        "colab": {}
      },
      "source": [
        "#ba1a\n",
        "def PatternCount(s, ss):\n",
        "  leng = len(s)\n",
        "  k = len(ss)\n",
        "  count = 0\n",
        "  for i in range(leng-k+1):\n",
        "    if s[i:i+k] == ss:\n",
        "      count += 1\n",
        "  return count"
      ],
      "execution_count": 0,
      "outputs": []
    },
    {
      "cell_type": "code",
      "metadata": {
        "id": "I6BdHGEjrHHV",
        "colab_type": "code",
        "outputId": "8d44e2f8-475a-4bbd-d827-f9d0740bf699",
        "colab": {
          "base_uri": "https://localhost:8080/",
          "height": 34
        }
      },
      "source": [
        "PatternCount('GCGCG','GCG')"
      ],
      "execution_count": 0,
      "outputs": [
        {
          "output_type": "execute_result",
          "data": {
            "text/plain": [
              "2"
            ]
          },
          "metadata": {
            "tags": []
          },
          "execution_count": 7
        }
      ]
    },
    {
      "cell_type": "code",
      "metadata": {
        "id": "4n7vuH8WrUYa",
        "colab_type": "code",
        "colab": {}
      },
      "source": [
        "#ba1b\n",
        "from collections import Counter\n",
        "def mostFrequentK_mer(s,k):\n",
        "  new_dict = {}\n",
        "  leng = len(s)\n",
        "  for i in range(leng-k+1):\n",
        "    ss = s[i:i+k]\n",
        "    if ss not in new_dict:\n",
        "      new_dict[ss] = 1\n",
        "    else:\n",
        "      new_dict[ss] += 1\n",
        "  counter = Counter(new_dict)\n",
        "  most_occur = counter.most_common(2)\n",
        "  for x in most_occur:\n",
        "    print(x[0])\n",
        "\n",
        "\n",
        "\n"
      ],
      "execution_count": 0,
      "outputs": []
    },
    {
      "cell_type": "code",
      "metadata": {
        "id": "CA7HCyowxN2K",
        "colab_type": "code",
        "outputId": "0f1958af-97c7-4389-aff4-82777728c41b",
        "colab": {
          "base_uri": "https://localhost:8080/",
          "height": 51
        }
      },
      "source": [
        "mostFrequentK_mer('ACGTTGCATGTCGCATGATGCATGAGAGCT',4)"
      ],
      "execution_count": 0,
      "outputs": [
        {
          "output_type": "stream",
          "text": [
            "GCAT\n",
            "CATG\n"
          ],
          "name": "stdout"
        }
      ]
    },
    {
      "cell_type": "code",
      "metadata": {
        "id": "loDi_NvLxZip",
        "colab_type": "code",
        "colab": {}
      },
      "source": [
        "#ba1c\n",
        "def reverse_Complement(s):\n",
        "  dct = {'A': 'T', 'C':'G', 'G':'C', 'T':'A'}\n",
        "  str = \"\"\n",
        "  for c in s:\n",
        "    str += dct[c]\n",
        "  print(str[::-1])\n",
        "    \n",
        "\n"
      ],
      "execution_count": 0,
      "outputs": []
    },
    {
      "cell_type": "code",
      "metadata": {
        "id": "kTgAALfgTQBm",
        "colab_type": "code",
        "outputId": "79b4d913-545d-457e-d29d-41e3dd659204",
        "colab": {
          "base_uri": "https://localhost:8080/",
          "height": 34
        }
      },
      "source": [
        "reverse_Complement('AAAACCCGGT')"
      ],
      "execution_count": 0,
      "outputs": [
        {
          "output_type": "stream",
          "text": [
            "ACCGGGTTTT\n"
          ],
          "name": "stdout"
        }
      ]
    },
    {
      "cell_type": "code",
      "metadata": {
        "id": "KOVUzH4BWZvG",
        "colab_type": "code",
        "colab": {}
      },
      "source": [
        "#ba1d\n",
        "def all_occur(ss,s):\n",
        "  pos = []\n",
        "  k = len(ss)\n",
        "  leng = len(s)\n",
        "  for i in range(leng-k+1):\n",
        "    if s[i:i+k] == ss:\n",
        "      pos.append(i)\n",
        "  print(pos)\n",
        "\n"
      ],
      "execution_count": 0,
      "outputs": []
    },
    {
      "cell_type": "code",
      "metadata": {
        "id": "7CKGwjbfYrZl",
        "colab_type": "code",
        "outputId": "5b104729-05f5-4b97-9e9f-7310f4858450",
        "colab": {
          "base_uri": "https://localhost:8080/",
          "height": 34
        }
      },
      "source": [
        "all_occur('ATAT','GATATATGCATATACTT')"
      ],
      "execution_count": 0,
      "outputs": [
        {
          "output_type": "stream",
          "text": [
            "[1, 3, 9]\n"
          ],
          "name": "stdout"
        }
      ]
    },
    {
      "cell_type": "code",
      "metadata": {
        "id": "cul5CowrYzCy",
        "colab_type": "code",
        "colab": {}
      },
      "source": [
        "#ba15\n",
        "from collections import Counter\n",
        "def clump_finding(s,k,l,t):\n",
        "  leng = len(s)\n",
        "  new_dict = {}\n",
        "  for i in range(leng-k+1):\n",
        "    ss = s[i:i+k]\n",
        "    if ss not in new_dict:\n",
        "      new_dict[ss] = 1\n",
        "    else:\n",
        "      new_dict[ss] += 1\n",
        "  counter = Counter(new_dict)\n",
        "  most_occur = counter.most_common(3)\n",
        "  for x in most_occur:\n",
        "    print(x[0])\n",
        "  \n",
        "\n",
        "\n"
      ],
      "execution_count": 0,
      "outputs": []
    },
    {
      "cell_type": "code",
      "metadata": {
        "id": "Zt16iKoQchWJ",
        "colab_type": "code",
        "outputId": "88fcdf66-717f-4f4c-cd7c-f94c32af5e23",
        "colab": {
          "base_uri": "https://localhost:8080/",
          "height": 68
        }
      },
      "source": [
        "clump_finding('CGGACTCGACAGATGTGAAGAAATGTGAAGACTGAGTGAAGAGAAGAGGAAACACGACACGACATTGCGACATAATGTACGAATGTAATGTGCCTATGGC',5,75,4)"
      ],
      "execution_count": 0,
      "outputs": [
        {
          "output_type": "stream",
          "text": [
            "CGACA\n",
            "GAAGA\n",
            "AATGT\n"
          ],
          "name": "stdout"
        }
      ]
    },
    {
      "cell_type": "code",
      "metadata": {
        "id": "RQr5FIHXcsaF",
        "colab_type": "code",
        "colab": {}
      },
      "source": [
        "#ba1f\n",
        "def minimum_skew(s):\n",
        "  lst = []\n",
        "  count = []\n",
        "  count_g = 0\n",
        "  count_c = 0\n",
        "  for c in s:\n",
        "    if c == 'G':\n",
        "      count_g += 1\n",
        "    elif c == 'C':\n",
        "      count_c += 1\n",
        "    count.append(count_g - count_c)\n",
        "  # minm = min(count)\n",
        "  # for i in range(len(count)):\n",
        "  #   if count[i] == minm:\n",
        "  #     print(i+1)\n",
        "  lst = [i+1 for i,x in enumerate(count) if x == min(count)]\n",
        "  print(lst)\n",
        "  \n"
      ],
      "execution_count": 0,
      "outputs": []
    },
    {
      "cell_type": "code",
      "metadata": {
        "id": "XSiacsHix2AW",
        "colab_type": "code",
        "outputId": "f03aa256-ac0e-4c1b-e407-b211cfedce71",
        "colab": {
          "base_uri": "https://localhost:8080/",
          "height": 34
        }
      },
      "source": [
        "minimum_skew('CCTATCGGTGGATTAGCATGTCCCTGTACGTTTCGCCGCGAACTAGTTCACACGGCTTGATGGCAAATGGTTTTTCCGGCGACCGTAATCGTCCACCGAG')"
      ],
      "execution_count": 0,
      "outputs": [
        {
          "output_type": "stream",
          "text": [
            "[53, 97]\n"
          ],
          "name": "stdout"
        }
      ]
    },
    {
      "cell_type": "code",
      "metadata": {
        "id": "aygngt6ox8Go",
        "colab_type": "code",
        "colab": {}
      },
      "source": [
        "#ba1g\n",
        "def hamming_dist(s1,s2):\n",
        "  count = 0\n",
        "  for c1,c2 in zip(s1,s2):\n",
        "    if c1 != c2:\n",
        "      count += 1 \n",
        "  print(count)\n"
      ],
      "execution_count": 0,
      "outputs": []
    },
    {
      "cell_type": "code",
      "metadata": {
        "id": "JYERtyD14yiW",
        "colab_type": "code",
        "outputId": "7fc286f5-44c5-4e5e-b4c4-1af920cfd780",
        "colab": {
          "base_uri": "https://localhost:8080/",
          "height": 34
        }
      },
      "source": [
        "hamming_dist('GGGCCGTTGGT','GGACCGTTGAC')"
      ],
      "execution_count": 0,
      "outputs": [
        {
          "output_type": "stream",
          "text": [
            "3\n"
          ],
          "name": "stdout"
        }
      ]
    },
    {
      "cell_type": "code",
      "metadata": {
        "id": "JwjMSYaz46HH",
        "colab_type": "code",
        "colab": {}
      },
      "source": [
        "#ba1h\n",
        "def hamming_dist(s1,s2):\n",
        "  count = 0\n",
        "  for c1,c2 in zip(s1,s2):\n",
        "    if c1 != c2:\n",
        "      count += 1 \n",
        "  return count\n",
        "\n",
        "def approx_pattern_match(p,s,d):\n",
        "  pos = []\n",
        "  leng = len(s)\n",
        "  k = len(p)\n",
        "  for i in range(leng-k+1):\n",
        "    ss = s[i:i+k]\n",
        "    dist = hamming_dist(p, ss)\n",
        "    if dist <= d:\n",
        "      pos.append(i)\n",
        "  print(pos)\n",
        "\n",
        "\n"
      ],
      "execution_count": 0,
      "outputs": []
    },
    {
      "cell_type": "code",
      "metadata": {
        "id": "JkDHlh-n7qHV",
        "colab_type": "code",
        "outputId": "8ff29a1f-6f4e-4610-88c7-7115a87001b6",
        "colab": {
          "base_uri": "https://localhost:8080/",
          "height": 34
        }
      },
      "source": [
        "approx_pattern_match('ATTCTGGA','CGCCCGAATCCAGAACGCATTCCCATATTTCGGGACCACTGGCCTCCACGGTACGGACGTCAATCAAATGCCTAGCGGCTTGTGGTTTCTCCTACGCTCC',3)"
      ],
      "execution_count": 0,
      "outputs": [
        {
          "output_type": "stream",
          "text": [
            "[6, 7, 26, 27, 78]\n"
          ],
          "name": "stdout"
        }
      ]
    },
    {
      "cell_type": "code",
      "metadata": {
        "id": "kT78b8Bb77no",
        "colab_type": "code",
        "colab": {}
      },
      "source": [
        "#ba1i\n",
        "def hamming_dist(s1,s2):\n",
        "  count = 0\n",
        "  for c1,c2 in zip(s1,s2):\n",
        "    if c1 != c2:\n",
        "      count += 1 \n",
        "  return count\n",
        "def frequent_word_with_d_mismatch(s, k, d):\n",
        "  cnt = Counter()\n",
        "  pattern = []\n",
        "  lst = []\n",
        "  ans = []\n",
        "  leng = len(s)\n",
        "  for i in range(leng-k+1):\n",
        "    ss = s[i:i+k]\n",
        "    lst.append(ss)\n",
        "    \n",
        "\n",
        "  for s1 in lst:\n",
        "    for s2 in set(lst):\n",
        "      dist = hamming_dist(s1,s2)\n",
        "      if dist <= d:\n",
        "        pattern.append(s2)\n",
        "  \n",
        "  for item in pattern:\n",
        "    cnt[item] += 1\n",
        "\n",
        "  for key, value in cnt.items():\n",
        "    if value == max(cnt.values()):\n",
        "      ans.append(key)\n",
        "  print(ans)\n",
        "\n",
        "\n",
        "\n",
        "\n",
        "\n",
        "\n",
        "\n",
        "\n",
        "  #   ss1 = s[i+1:i+1+k]\n",
        "  #   dist = hamming_dist(ss,ss1)\n",
        "  #   if dist <= d:\n",
        "  #     pattern.append(ss)\n",
        "  # print(pattern)\n"
      ],
      "execution_count": 0,
      "outputs": []
    },
    {
      "cell_type": "code",
      "metadata": {
        "id": "hnxQMxDBCWzQ",
        "colab_type": "code",
        "outputId": "a3896a91-3337-41b9-996e-3f4dcdf575cf",
        "colab": {
          "base_uri": "https://localhost:8080/",
          "height": 34
        }
      },
      "source": [
        "frequent_word_with_d_mismatch('ACGTTGCATGTCGCATGATGCATGAGAGCT',4,1)"
      ],
      "execution_count": 0,
      "outputs": [
        {
          "output_type": "stream",
          "text": [
            "['ATGT', 'GATG', 'ATGC']\n"
          ],
          "name": "stdout"
        }
      ]
    },
    {
      "cell_type": "code",
      "metadata": {
        "id": "dR7frID7CfsO",
        "colab_type": "code",
        "cellView": "code",
        "colab": {}
      },
      "source": [
        "#ba1k\n",
        "import itertools\n",
        "from collections import Counter\n",
        "def frequency_arr(s,k):\n",
        "  values = []\n",
        "  new_dict = {}\n",
        "  keys = []\n",
        "  lst = []\n",
        "  cnt = Counter()\n",
        "  leng = len(s)\n",
        "  for i in range(leng-k+1):\n",
        "    ss = s[i:i+k]\n",
        "    lst.append(ss)\n",
        "  for item in lst:\n",
        "    cnt[item] += 1\n",
        "  #generate all pattern of patternLen\n",
        "  patterns= [''.join(x) for x in itertools.product('ACGT', repeat=k)]\n",
        " \n",
        "  for item in patterns:\n",
        "    if item in cnt.keys():\n",
        "      new_dict[item] = cnt[item]\n",
        "    else:\n",
        "      new_dict[item] = 0\n",
        "  for item in new_dict.values():\n",
        "    values.append(item)\n",
        "  print(values)\n",
        "\n",
        "\n",
        "\n",
        "\n"
      ],
      "execution_count": 0,
      "outputs": []
    },
    {
      "cell_type": "code",
      "metadata": {
        "id": "pOjyOZR5sl2X",
        "colab_type": "code",
        "outputId": "c5b5da6e-7394-4568-d8dc-85e0da0ac0a7",
        "colab": {
          "base_uri": "https://localhost:8080/",
          "height": 34
        }
      },
      "source": [
        "frequency_arr('ACGCGGCTCTGAAA',2)"
      ],
      "execution_count": 0,
      "outputs": [
        {
          "output_type": "stream",
          "text": [
            "[2, 1, 0, 0, 0, 0, 2, 2, 1, 2, 1, 0, 0, 1, 1, 0]\n"
          ],
          "name": "stdout"
        }
      ]
    },
    {
      "cell_type": "code",
      "metadata": {
        "id": "J0TgKT34suIR",
        "colab_type": "code",
        "colab": {}
      },
      "source": [
        "#ba1l\n",
        "import itertools\n",
        "def patterntonum(s):\n",
        "  patterns= [''.join(x) for x in itertools.product('ACGT', repeat=3)]\n",
        "  for i in range(len(patterns)):\n",
        "    if s == patterns[i]:\n",
        "      print(i)\n",
        "\n"
      ],
      "execution_count": 0,
      "outputs": []
    },
    {
      "cell_type": "code",
      "metadata": {
        "id": "F85YyUWqhHCG",
        "colab_type": "code",
        "outputId": "7d0677f8-db85-42db-c2d3-09c0f5ff7426",
        "colab": {
          "base_uri": "https://localhost:8080/",
          "height": 34
        }
      },
      "source": [
        "patterntonum('AGT')"
      ],
      "execution_count": 0,
      "outputs": [
        {
          "output_type": "stream",
          "text": [
            "11\n"
          ],
          "name": "stdout"
        }
      ]
    },
    {
      "cell_type": "code",
      "metadata": {
        "id": "czU-wEOnhQwc",
        "colab_type": "code",
        "colab": {}
      },
      "source": [
        "#ba1m\n",
        "import itertools\n",
        "def numbertopattern(n,k):\n",
        "  patterns = [\"\".join(x) for x in itertools.product('ACGT',repeat=k)]\n",
        "  print(patterns[n])\n"
      ],
      "execution_count": 0,
      "outputs": []
    },
    {
      "cell_type": "code",
      "metadata": {
        "id": "n5d8hBfvicdM",
        "colab_type": "code",
        "outputId": "6b68726a-e505-4b13-b258-ab2e7840aca1",
        "colab": {
          "base_uri": "https://localhost:8080/",
          "height": 34
        }
      },
      "source": [
        "numbertopattern(45,4)"
      ],
      "execution_count": 0,
      "outputs": [
        {
          "output_type": "stream",
          "text": [
            "AGTC\n"
          ],
          "name": "stdout"
        }
      ]
    },
    {
      "cell_type": "code",
      "metadata": {
        "id": "Z2sXb5kgiklT",
        "colab_type": "code",
        "colab": {}
      },
      "source": [
        "#ba1n\n",
        "import itertools\n",
        "def hamming_dist(s1,s2):\n",
        "  count = 0\n",
        "  for c1,c2 in zip(s1,s2):\n",
        "    if c1 != c2:\n",
        "      count += 1 \n",
        "  return count\n",
        "def d_neighbourhood(s,d):\n",
        "  output = []\n",
        "  k = len(s)\n",
        "  patterns = [\"\".join(x) for x in itertools.product('ACGT',repeat=k)]\n",
        "  for pattern in patterns:\n",
        "    dist = hamming_dist(s,pattern)\n",
        "    if dist <= d:\n",
        "      print(pattern)\n",
        "  #     output.append(pattern)\n",
        "  # print(output)\n"
      ],
      "execution_count": 0,
      "outputs": []
    },
    {
      "cell_type": "code",
      "metadata": {
        "id": "tUV-uBBNlAfw",
        "colab_type": "code",
        "outputId": "c033b8e8-9585-46e2-f9e2-2e651900e430",
        "colab": {
          "base_uri": "https://localhost:8080/",
          "height": 187
        }
      },
      "source": [
        "d_neighbourhood('ACG',1)"
      ],
      "execution_count": 0,
      "outputs": [
        {
          "output_type": "stream",
          "text": [
            "AAG\n",
            "ACA\n",
            "ACC\n",
            "ACG\n",
            "ACT\n",
            "AGG\n",
            "ATG\n",
            "CCG\n",
            "GCG\n",
            "TCG\n"
          ],
          "name": "stdout"
        }
      ]
    },
    {
      "cell_type": "code",
      "metadata": {
        "id": "fELxOjV0lJtp",
        "colab_type": "code",
        "colab": {}
      },
      "source": [
        "#ba1j\n",
        "from collections import Counter\n",
        "s = 'ACGTTGCATGTCGCATGATGCATGAGAGCT'\n",
        "k = 4\n",
        "d = 1\n",
        "def reverse_complement(s):\n",
        "  dct = {'A': 'T', 'C':'G', 'G':'C', 'T':'A'}\n",
        "  str = \"\"\n",
        "  for c in s:\n",
        "    str += dct[c]\n",
        "  return str[::-1]\n",
        "def hamming_dist(s1, s2):\n",
        "  count = 0\n",
        "  for c1,c2 in zip(s1,s2):\n",
        "    if c1 != c2:\n",
        "      count += 1\n",
        "  return count  \n",
        "\n",
        "\n",
        "def frequent_word_with_mismatch_reverse_comp(txt, k, d):\n",
        "  count = 1\n",
        "  k_mers = []\n",
        "  mx = -1\n",
        "  output = []\n",
        "  cnt = Counter()\n",
        "  ans = []\n",
        "  \n",
        "  for i in range(len(txt)-k+1):\n",
        "    x = txt[i:i+k]\n",
        "    k_mers.append(x)\n",
        "    \n",
        "  for t_mer in k_mers:\n",
        "    for s_mer in set(k_mers):\n",
        "      if hamming_dist(t_mer,s_mer) == d:\n",
        "        output.append(s_mer)\n",
        "  for item in output:\n",
        "    cnt[item] += 1\n",
        "    \n",
        "  \n",
        "  \n",
        "  for key, val in cnt.items():\n",
        "      if val == max(cnt.values()):\n",
        "        ans.append(key)\n",
        "  \n",
        "  rev = ans[0]\n",
        "  print(ans[0], reverse_complement(rev))"
      ],
      "execution_count": 0,
      "outputs": []
    },
    {
      "cell_type": "code",
      "metadata": {
        "id": "Qt0hiHsm43Eu",
        "colab_type": "code",
        "outputId": "2483754e-f608-47bf-d671-88c641141619",
        "colab": {
          "base_uri": "https://localhost:8080/",
          "height": 34
        }
      },
      "source": [
        "frequent_word_with_d_mismatch(s, k, d)"
      ],
      "execution_count": 0,
      "outputs": [
        {
          "output_type": "stream",
          "text": [
            "ATGT ACAT\n"
          ],
          "name": "stdout"
        }
      ]
    }
  ]
}