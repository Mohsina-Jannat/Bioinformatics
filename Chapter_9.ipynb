{
  "nbformat": 4,
  "nbformat_minor": 0,
  "metadata": {
    "colab": {
      "name": "Chapter_9.ipynb",
      "provenance": []
    },
    "kernelspec": {
      "name": "python3",
      "display_name": "Python 3"
    }
  },
  "cells": [
    {
      "cell_type": "code",
      "metadata": {
        "id": "niaJFwj4QCph",
        "colab_type": "code",
        "outputId": "e063bb04-5a86-4406-df58-e09c28784626",
        "colab": {
          "base_uri": "https://localhost:8080/",
          "height": 34
        }
      },
      "source": [
        "#ba9i\n",
        "words = \"GCGTGCCTGGTCA$\"\n",
        "a = words\n",
        "list = []\n",
        "str = \"\"\n",
        "for i in range(len(words)):\n",
        "    word = a[-1] + a[:-1]\n",
        "    new = ''.join(word)\n",
        "    a = new\n",
        "    list.append(new)\n",
        "    i += 1\n",
        "list.sort()\n",
        "for i in range(len(list)):\n",
        "  str += list[i][-1]\n",
        "print(str)"
      ],
      "execution_count": 0,
      "outputs": [
        {
          "output_type": "stream",
          "text": [
            "ACTGGCT$TGCGGC\n"
          ],
          "name": "stdout"
        }
      ]
    },
    {
      "cell_type": "code",
      "metadata": {
        "id": "TyCfle0EQrUN",
        "colab_type": "code",
        "outputId": "5ed3ba04-b4d1-4cd4-86b2-f1dc37d71ba7",
        "colab": {
          "base_uri": "https://localhost:8080/",
          "height": 34
        }
      },
      "source": [
        "#ba9j\n",
        "bwt = \"TTCCTAACG$A\"\n",
        "lst = sorted(bwt)\n",
        "lst1 = [('$',1),('A',1),('A',2),('A',3),('C',1),('C',2),('C',3),('G',1),('T',1),('T',2),('T',3)]\n",
        "lst2 = [('T',1),('T',2),('C',1),('C',2),('T',3),('A',1),('A',2),('C',3),('G',1),('$',1),('A',3)]\n",
        "dct = {('$',1):('T',1),('A',1):('T',2),('A',2):('C',1),('A',3):('C',2),('C',1):('T',3),('C',2):('A',1),('C',3):('A',2),('G',1):('C',3),('T',1):('G',1),('T',2):('$',1),('T',3):('A',3)}\n",
        "p = dct[('$',1)]\n",
        "ans = []\n",
        "str = \"\"\n",
        "for i in range(len(dct)):\n",
        "  if p == ('$',1):\n",
        "    break\n",
        "  str += p[0]\n",
        "  p = dct[p]\n",
        "print(str[::-1])"
      ],
      "execution_count": 3,
      "outputs": [
        {
          "output_type": "stream",
          "text": [
            "TACATCACGT\n"
          ],
          "name": "stdout"
        }
      ]
    },
    {
      "cell_type": "code",
      "metadata": {
        "id": "9mDpOFVvYFZf",
        "colab_type": "code",
        "outputId": "0c29f16f-b090-4173-b3c5-29e7bcdc0cc7",
        "colab": {
          "base_uri": "https://localhost:8080/",
          "height": 34
        }
      },
      "source": [
        "#ba9h\n",
        "text = \"AATCGGGTTCAATCGGGGT\"\n",
        "p = [\"ATCG\",\"GGGT\"]\n",
        "pos = []\n",
        "def suffixes(string):\n",
        "    for idx in range(len(string)):\n",
        "        yield string[idx:]\n",
        "def create_suffix_array(text):\n",
        "    d = {}\n",
        "    for idx, suffix in enumerate(suffixes(text)):\n",
        "        d[suffix] = idx\n",
        "#return OrderedDict(sorted(d.items()))\n",
        "    #return sorted(d.items())\n",
        "    for item in p:\n",
        "      k = len(item)\n",
        "      for key,value in d.items():\n",
        "        if key[0:k] == item:\n",
        "          pos.append(value)\n",
        "    print(sorted(pos))\n",
        "create_suffix_array(text)"
      ],
      "execution_count": 0,
      "outputs": [
        {
          "output_type": "stream",
          "text": [
            "[1, 4, 11, 15]\n"
          ],
          "name": "stdout"
        }
      ]
    },
    {
      "cell_type": "code",
      "metadata": {
        "id": "1y7MiltgQ-hR",
        "colab_type": "code",
        "outputId": "462b5c02-6d11-4307-c3d7-209839f95ae2",
        "colab": {
          "base_uri": "https://localhost:8080/",
          "height": 34
        }
      },
      "source": [
        "#ba9k\n",
        "a = 'T$GACCA'\n",
        "indx = 3\n",
        "map = {}\n",
        "str = ''.join(sorted(a))\n",
        "#print(str)\n",
        "for i in range(len(str)):\n",
        "  if str[i] == '$':\n",
        "    map[str[i]] = 0\n",
        "  else:\n",
        "    map[str[i]] = i - 1\n",
        "#print(map)\n",
        "print(map[a[indx]])"
      ],
      "execution_count": 0,
      "outputs": [
        {
          "output_type": "stream",
          "text": [
            "1\n"
          ],
          "name": "stdout"
        }
      ]
    },
    {
      "cell_type": "code",
      "metadata": {
        "id": "cGZmZEtrRAD1",
        "colab_type": "code",
        "outputId": "6ad1773f-6549-43ac-ddac-3695bcdbdcd6",
        "colab": {
          "base_uri": "https://localhost:8080/",
          "height": 34
        }
      },
      "source": [
        "#ba9n\n",
        "s = \"AATCGGGTTCAATCGGGGT\"\n",
        "s1 = 'ATCG'\n",
        "s2 = 'GGGT'\n",
        "lst = []\n",
        "leng = len(s)\n",
        "k = len(s1)\n",
        "for i in range(leng-k+1):\n",
        "  if s[i:i+k] == s1 or s[i:i+k] == s2:\n",
        "    lst.append(i)\n",
        "print(lst)"
      ],
      "execution_count": 0,
      "outputs": [
        {
          "output_type": "stream",
          "text": [
            "[1, 4, 11, 15]\n"
          ],
          "name": "stdout"
        }
      ]
    },
    {
      "cell_type": "code",
      "metadata": {
        "id": "2qTwQhxFS1Og",
        "colab_type": "code",
        "outputId": "b42ece79-e774-40bf-d346-1a8faeed905b",
        "colab": {
          "base_uri": "https://localhost:8080/",
          "height": 34
        }
      },
      "source": [
        "#ba9o\n",
        "def hamming_dist(s1,s2):\n",
        "  cnt = 0\n",
        "  for c1,c2 in zip(s1,s2):\n",
        "    if c1!=c2:\n",
        "      cnt += 1\n",
        "  return cnt\n",
        "s = \"ACATGCTACTTT\"\n",
        "p = [\"ATT\",\"GCC\",\"GCTA\",\"TATT\"]\n",
        "d = 1\n",
        "pos = []\n",
        "leng = len(s)\n",
        "for i in range(len(p)):\n",
        "  k = len(p[i])\n",
        "  for j in range(leng-k+1):\n",
        "    ss = s[j:j+k]\n",
        "    dist = hamming_dist(ss,p[i])\n",
        "    if dist <= d:\n",
        "      pos.append(j)\n",
        "pos.sort()\n",
        "print(pos)\n"
      ],
      "execution_count": 0,
      "outputs": [
        {
          "output_type": "stream",
          "text": [
            "[2, 4, 4, 6, 7, 8, 9]\n"
          ],
          "name": "stdout"
        }
      ]
    },
    {
      "cell_type": "code",
      "metadata": {
        "id": "pWC4M4ABS_XQ",
        "colab_type": "code",
        "outputId": "05c8a2ea-fb68-46f1-c28f-9bff2bb791d9",
        "colab": {
          "base_uri": "https://localhost:8080/",
          "height": 54
        }
      },
      "source": [
        "#BA9G\n",
        "text = \"PANAMABANANAS$\"\n",
        "def suffixes(text):\n",
        "  for i in range(len(text)):\n",
        "    yield text[i:]\n",
        "def suffix_array(text):\n",
        "  d = {}\n",
        "  for i,item in enumerate(suffixes(text)):\n",
        "    d[item] = i\n",
        "  lst = sorted(d.items())\n",
        "  return lst\n",
        "print(suffix_array(text))\n",
        "# lst = suffix_array(text)\n",
        "# for i in range(len(lst)):\n",
        "#   if lst[i][1]%5 == 0:\n",
        "#     print(i,lst[i][1])"
      ],
      "execution_count": 0,
      "outputs": [
        {
          "output_type": "stream",
          "text": [
            "[('$', 13), ('ABANANAS$', 5), ('AMABANANAS$', 3), ('ANAMABANANAS$', 1), ('ANANAS$', 7), ('ANAS$', 9), ('AS$', 11), ('BANANAS$', 6), ('MABANANAS$', 4), ('NAMABANANAS$', 2), ('NANAS$', 8), ('NAS$', 10), ('PANAMABANANAS$', 0), ('S$', 12)]\n"
          ],
          "name": "stdout"
        }
      ]
    },
    {
      "cell_type": "code",
      "metadata": {
        "id": "Njy6KRSS1b0y",
        "colab_type": "code",
        "outputId": "4428c95f-3a92-437e-f16e-0dee1805a0db",
        "colab": {
          "base_uri": "https://localhost:8080/",
          "height": 105
        }
      },
      "source": [
        "#BA9q\n",
        "text = \"PANAMABANANAS$\"\n",
        "def suffixes(text):\n",
        "  for i in range(len(text)):\n",
        "    yield text[i:]\n",
        "def suffix_array(text):\n",
        "  d = {}\n",
        "  for i,item in enumerate(suffixes(text)):\n",
        "    d[item] = i\n",
        "  lst = sorted(d.items())\n",
        "  return lst\n",
        "print(suffix_array(text))\n",
        "lst = suffix_array(text)\n",
        "for i in range(len(lst)):\n",
        "  if lst[i][1]%5 == 0:\n",
        "    print(i,lst[i][1])"
      ],
      "execution_count": 0,
      "outputs": [
        {
          "output_type": "stream",
          "text": [
            "[('$', 13), ('ABANANAS$', 5), ('AMABANANAS$', 3), ('ANAMABANANAS$', 1), ('ANANAS$', 7), ('ANAS$', 9), ('AS$', 11), ('BANANAS$', 6), ('MABANANAS$', 4), ('NAMABANANAS$', 2), ('NANAS$', 8), ('NAS$', 10), ('PANAMABANANAS$', 0), ('S$', 12)]\n",
            "1 5\n",
            "11 10\n",
            "12 0\n"
          ],
          "name": "stdout"
        }
      ]
    },
    {
      "cell_type": "code",
      "metadata": {
        "id": "-AdSLNeh465q",
        "colab_type": "code",
        "colab": {
          "base_uri": "https://localhost:8080/",
          "height": 170
        },
        "outputId": "b9278eb1-cd61-45ad-ab0e-23708f778a65"
      },
      "source": [
        "#ba9a\n",
        "patterns = [\"ATAGA\",\"ATC\",\"GAT\"]\n",
        "tree = []\n",
        "tree.append({})\n",
        "cnt = 1\n",
        "for pattern in patterns:\n",
        "  current_node = 0\n",
        "  for char in pattern:\n",
        "    if char not in tree[current_node]:\n",
        "      tree[current_node][char] = cnt\n",
        "      print(str(current_node) + \"->\" + str(cnt) + \":\" + char)\n",
        "      tree.append({})\n",
        "      cnt += 1\n",
        "    current_node = tree[current_node][char]"
      ],
      "execution_count": 1,
      "outputs": [
        {
          "output_type": "stream",
          "text": [
            "0->1:A\n",
            "1->2:T\n",
            "2->3:A\n",
            "3->4:G\n",
            "4->5:A\n",
            "2->6:C\n",
            "0->7:G\n",
            "7->8:A\n",
            "8->9:T\n"
          ],
          "name": "stdout"
        }
      ]
    },
    {
      "cell_type": "code",
      "metadata": {
        "id": "r3Rf7UN8UX5i",
        "colab_type": "code",
        "colab": {
          "base_uri": "https://localhost:8080/",
          "height": 34
        },
        "outputId": "2064c2fd-1627-4cf1-eb24-35a047408e4e"
      },
      "source": [
        "#ba9b\n",
        "text = \"AATCGGGTTCAATCGGGGT\"\n",
        "patterns = [\"ATCG\",\"GGGT\"]\n",
        "def constructTrieFrom(patterns):\n",
        "  tree = []\n",
        "  tree.append({})\n",
        "  cnt = 1\n",
        "  for pattern in patterns:\n",
        "    current_node = 0\n",
        "    for ch in pattern:\n",
        "      if ch not in tree[current_node]:\n",
        "        tree[current_node][ch] = cnt\n",
        "        tree.append({})\n",
        "        cnt += 1\n",
        "      current_node = tree[current_node][ch]\n",
        "  return tree\n",
        "\n",
        "trie = constructTrieFrom(patterns)\n",
        "ans = []\n",
        "for i in range(len(text)):\n",
        "  pos = i\n",
        "  current_node = 0\n",
        "  ch = text[pos]\n",
        "  while(ch in trie[current_node] and len(trie[current_node]) != 0):\n",
        "    current_node = trie[current_node][ch]\n",
        "    pos += 1\n",
        "    if pos == len(text):\n",
        "      break\n",
        "    ch = text[pos]\n",
        "  if len(trie[current_node]) == 0:\n",
        "    ans.append(i)\n",
        "print(*ans)"
      ],
      "execution_count": 2,
      "outputs": [
        {
          "output_type": "stream",
          "text": [
            "1 4 11 15\n"
          ],
          "name": "stdout"
        }
      ]
    },
    {
      "cell_type": "code",
      "metadata": {
        "id": "xmY27OhjUgOj",
        "colab_type": "code",
        "colab": {}
      },
      "source": [
        ""
      ],
      "execution_count": 0,
      "outputs": []
    }
  ]
}