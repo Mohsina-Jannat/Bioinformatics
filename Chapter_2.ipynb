{
  "nbformat": 4,
  "nbformat_minor": 0,
  "metadata": {
    "colab": {
      "name": "Chapter_2.ipynb",
      "provenance": [],
      "collapsed_sections": []
    },
    "kernelspec": {
      "name": "python3",
      "display_name": "Python 3"
    }
  },
  "cells": [
    {
      "cell_type": "code",
      "metadata": {
        "id": "bdNuh_aF2F7V",
        "colab_type": "code",
        "colab": {}
      },
      "source": [
        "#ba2a\n",
        "import itertools\n",
        "DNA = ['ATTTGGC','TGCCTTA','CGGTATC','GAAAATT']\n",
        "def hamming_dist(s1,s2):\n",
        "  count = 0\n",
        "  for c1,c2 in zip(s1,s2):\n",
        "    if c1 != c2:\n",
        "      count += 1 \n",
        "  return count\n",
        "\n",
        "def motif_enumeration(DNA, k, d):\n",
        "  patterns = [\"\".join(x) for x in itertools.product('ACGT', repeat=k)]\n",
        "  patterns = set(patterns)\n",
        "  pattern_cpy = patterns.copy()\n",
        "  for item in DNA:\n",
        "    lst = set()\n",
        "    leng = len(item)\n",
        "    for i in range(leng-k+1):\n",
        "      ss = item[i:i+k]\n",
        "      for elem in pattern_cpy:\n",
        "        if hamming_dist(ss,elem) <= d:\n",
        "          lst.add(elem)\n",
        "    patterns = patterns & lst\n",
        "  print(patterns)"
      ],
      "execution_count": 0,
      "outputs": []
    },
    {
      "cell_type": "code",
      "metadata": {
        "id": "6KVCkmld2TPs",
        "colab_type": "code",
        "outputId": "ea9cf442-922e-4383-ecc9-24bc4feb7ec9",
        "colab": {
          "base_uri": "https://localhost:8080/",
          "height": 34
        }
      },
      "source": [
        "motif_enumeration(DNA, 3, 1)"
      ],
      "execution_count": 0,
      "outputs": [
        {
          "output_type": "stream",
          "text": [
            "{'ATA', 'GTT', 'TTT', 'ATT'}\n"
          ],
          "name": "stdout"
        }
      ]
    },
    {
      "cell_type": "code",
      "metadata": {
        "id": "lOe1e8Hd2XwX",
        "colab_type": "code",
        "colab": {}
      },
      "source": [
        "#ba2b\n",
        "import itertools\n",
        "DNA = ['AAATTGACGCAT','GACGACCACGTT','CGTCAGCGCCTG','GCTGAGCACCGG','AGTACGGGACAG']\n",
        "def hamming_dist(s1,s2):\n",
        "  count = 0\n",
        "  for c1,c2 in zip(s1,s2):\n",
        "    if c1 != c2:\n",
        "      count += 1 \n",
        "  return count\n",
        "\n",
        "def dis_pattern_dna(pattern, dna):\n",
        "  dis = []\n",
        "  leng = len(dna)\n",
        "  k = len(pattern)\n",
        "  for i in range(leng-k+1):\n",
        "    ss = dna[i:i+k]\n",
        "    dist = hamming_dist(pattern, ss)\n",
        "    dis.append(dist)\n",
        "  return min(dis)\n",
        "\n",
        "def dis_pattern_DNA(pattern,DNA):\n",
        "  distance = []\n",
        "  ans = 0\n",
        "  for item in DNA:\n",
        "    dist = dis_pattern_dna(pattern, item)\n",
        "    ans += dist\n",
        "  return ans\n",
        "    \n",
        "    \n",
        "def median_string(k,DNA):\n",
        "  distance = []\n",
        "  dct = {}\n",
        "  k_mers = [\"\".join(x) for x in itertools.product('ACGT',repeat=k)]\n",
        "  k_mers.sort()\n",
        "  for k_mer in k_mers:\n",
        "    dis = dis_pattern_DNA(k_mer, DNA)\n",
        "    dct[k_mer] = dis\n",
        "    \n",
        "  print(min(dct, key=dct.get))"
      ],
      "execution_count": 0,
      "outputs": []
    },
    {
      "cell_type": "code",
      "metadata": {
        "id": "fWzONg1v2fRZ",
        "colab_type": "code",
        "outputId": "1cf8f9ad-0eb7-4912-eb1c-34d8df8efefb",
        "colab": {
          "base_uri": "https://localhost:8080/",
          "height": 34
        }
      },
      "source": [
        "median_string(3,DNA)"
      ],
      "execution_count": 0,
      "outputs": [
        {
          "output_type": "stream",
          "text": [
            "ACG\n"
          ],
          "name": "stdout"
        }
      ]
    },
    {
      "cell_type": "code",
      "metadata": {
        "id": "0zGinDbe2hn8",
        "colab_type": "code",
        "colab": {}
      },
      "source": [
        "#ba2c\n",
        "s = 'ACCTGTTTATTGCCTAAGTTCCGAACAAACCCAATATAGCCCGAGGGCCT'\n",
        "k = 5\n",
        "profile = [[0.2, 0.2, 0.3, 0.2, 0.3],\n",
        "           [0.4, 0.3, 0.1, 0.5, 0.1],\n",
        "           [0.3, 0.3, 0.5, 0.2, 0.4],\n",
        "           [0.1, 0.2, 0.1, 0.1, 0.2]]\n",
        "def profile_most_probable_k_mer(s,k,profile):\n",
        "  dct  = {}\n",
        "  leng = len(s)\n",
        "  for i in range(leng-k+1):\n",
        "    ans = 1\n",
        "    ss = s[i:i+k]\n",
        "    for j in range(len(ss)):\n",
        "      if ss[j] == 'A':\n",
        "        ans *= profile[0][j]\n",
        "      elif ss[j] == 'C':\n",
        "        ans *= profile[1][j]\n",
        "      elif ss[j] == 'G':\n",
        "        ans *= profile[2][j]\n",
        "      elif ss[j] == 'T':\n",
        "        ans *= profile[3][j]\n",
        "    dct[ss] = ans\n",
        "  output = max(dct, key =dct.get)\n",
        "  print(output)     "
      ],
      "execution_count": 0,
      "outputs": []
    },
    {
      "cell_type": "code",
      "metadata": {
        "id": "SQ4u-w2R2ltq",
        "colab_type": "code",
        "outputId": "20c6fb48-7c8e-4f41-fb4b-1b960b706755",
        "colab": {
          "base_uri": "https://localhost:8080/",
          "height": 34
        }
      },
      "source": [
        "profile_most_probable_k_mer(s,k,profile)"
      ],
      "execution_count": 0,
      "outputs": [
        {
          "output_type": "stream",
          "text": [
            "CCGAG\n"
          ],
          "name": "stdout"
        }
      ]
    },
    {
      "cell_type": "code",
      "metadata": {
        "id": "QaZAJKG12n3U",
        "colab_type": "code",
        "colab": {}
      },
      "source": [
        "#ba2d\n",
        "k = 3\n",
        "t = 5\n",
        "DNA = ['GGCGTTCAGGCA','AAGAATCAGTCA','CAAGGAGTTCGC','CACGTCAATCAC','CAATAATATTCG']\n",
        "def profile_most_probable_k_mer(s,k,profile):\n",
        "  dct  = {}\n",
        "  leng = len(s)\n",
        "  for i in range(leng-k+1):\n",
        "    ans = 1\n",
        "    ss = s[i:i+k]\n",
        "    for j in range(len(ss)):\n",
        "      if ss[j] == 'A':\n",
        "        ans *= profile[0][j]\n",
        "      elif ss[j] == 'C':\n",
        "        ans *= profile[1][j]\n",
        "      elif ss[j] == 'G':\n",
        "        ans *= profile[2][j]\n",
        "      elif ss[j] == 'T':\n",
        "        ans *= profile[3][j]\n",
        "    dct[ss] = ans\n",
        "  output = max(dct, key =dct.get)\n",
        "  return output  \n",
        "def num_to_symbol(x):\n",
        "  if x == 0:\n",
        "    return 'A'\n",
        "  elif x == 1:\n",
        "    return 'C'\n",
        "  elif x == 2:\n",
        "    return 'G'\n",
        "  elif x == 3:\n",
        "    return 'T'\n",
        "  \n",
        "def profileForm(motifs):\n",
        "  k = len(motifs[0])\n",
        "  profile = [[0 for i in range(k)] for j in range(4)]\n",
        "  for item in motifs:\n",
        "    for i in range(len(item)):\n",
        "      if item[i] == 'A':\n",
        "        profile[0][i] += 1 \n",
        "      elif item[i] == 'C':\n",
        "        profile[1][i] += 1\n",
        "      elif item[i] == 'G':\n",
        "        profile[2][i] += 1\n",
        "      elif item[i] == 'T':\n",
        "        profile[3][i] += 1\n",
        "    for row in profile:\n",
        "      for elem in row:\n",
        "        elem = elem/len(motifs)\n",
        "  return profile\n",
        "\n",
        "def concensus(profile):\n",
        "  str = \"\"\n",
        "  for i in range(len(profile[0])):\n",
        "    mx = 0\n",
        "    loc = 0\n",
        "    for j in range(4):\n",
        "      if profile[j][i] > mx:\n",
        "        loc = j\n",
        "        mx = profile[j][i]\n",
        "    str += num_to_symbol(loc)\n",
        "  return str\n",
        "\n",
        "def score(motifs):\n",
        "  profile = profileForm(motifs)\n",
        "  cons = concensus(profile)\n",
        "  score = 0\n",
        "  for item in motifs:\n",
        "    for i in range(len(item)):\n",
        "      if cons[i] != item[i]:\n",
        "        score += 1\n",
        "  return score\n",
        "\n",
        "def greedy_motif_search(k,t,DNA):\n",
        "  best_motifs = []\n",
        "  for item in DNA:\n",
        "    best_motifs.append(item[0:k])\n",
        "    for i in range(len(DNA[0])-k+1):\n",
        "      motifs = []\n",
        "      motifs.append(DNA[0][i:i+k])\n",
        "      for j in range(1,t):\n",
        "        profile = profileForm(motifs)\n",
        "        motifs.append(profile_most_probable_k_mer(DNA[j],k,profile))\n",
        "      if score(motifs) < score(best_motifs):\n",
        "        best_motifs = motifs\n",
        "  return best_motifs"
      ],
      "execution_count": 0,
      "outputs": []
    },
    {
      "cell_type": "code",
      "metadata": {
        "id": "oTahzQif23eY",
        "colab_type": "code",
        "outputId": "2a108050-494c-462c-ccaf-626ab96f2fb0",
        "colab": {
          "base_uri": "https://localhost:8080/",
          "height": 34
        }
      },
      "source": [
        "greedy_motif_search(k,t,DNA)"
      ],
      "execution_count": 0,
      "outputs": [
        {
          "output_type": "execute_result",
          "data": {
            "text/plain": [
              "['CAG', 'CAG', 'CAA', 'CAA', 'CAA', 'CAA']"
            ]
          },
          "metadata": {
            "tags": []
          },
          "execution_count": 10
        }
      ]
    },
    {
      "cell_type": "code",
      "metadata": {
        "id": "S4KAT0sp25u8",
        "colab_type": "code",
        "colab": {}
      },
      "source": [
        "#ba2e\n",
        "k = 3\n",
        "t = 5\n",
        "dna = ['GGCGTTCAGGCA','AAGAATCAGTCA','CAAGGAGTTCGC','CACGTCAATCAC','CAATAATATTCG']\n",
        "\n",
        "def symbolToNumber(symbol):\n",
        "\tif symbol == \"A\":\n",
        "\t\treturn 0\n",
        "\tif symbol == \"C\":\n",
        "\t\treturn 1\n",
        "\tif symbol == \"G\":\n",
        "\t\treturn 2\n",
        "\tif symbol == \"T\":\n",
        "\t\treturn 3\n",
        "\n",
        "\n",
        "def numberToSymbol(x):\n",
        "\tif x == 0:\n",
        "\t\treturn \"A\"\n",
        "\tif x == 1:\n",
        "\t\treturn \"C\"\n",
        "\tif x == 2:\n",
        "\t\treturn \"G\"\n",
        "\tif x == 3:\n",
        "\t\treturn \"T\"\n",
        "\n",
        "def profileProbable(text, k, profile):\n",
        "\tmaxprob = 0\n",
        "\tkmer = text[0:k]\n",
        "\tfor i in range(0,len(text) - k +1):\n",
        "\t\tprob = 1\n",
        "\t\tpattern = text[i:i+k]\n",
        "\t\tfor j in range(k):\n",
        "\t\t\tl = symbolToNumber(pattern[j])\n",
        "\t\t\tprob *= profile[l][j]\n",
        "\t\tif prob > maxprob:\n",
        "\t\t\tmaxprob = prob\n",
        "\t\t\tkmer = pattern\n",
        "\treturn kmer\n",
        "\n",
        "def profileForm(motifs):\n",
        "\tk = len(motifs[0])\n",
        "\tprofile = [[1 for i in range(k)] for j in range(4)]\n",
        "\tfor x in motifs:\n",
        "\t\tfor i in range(len(x)):\n",
        "\t\t\tj = symbolToNumber(x[i])\n",
        "\t\t\tprofile[j][i] += 1\n",
        "\tfor x in profile:\n",
        "\t\tfor y in x:\n",
        "\t\t\ty = y/len(motifs)\n",
        "\treturn profile\n",
        "\n",
        "def consensus(profile):\n",
        "\tstr = \"\"\n",
        "\tfor i in range(len(profile[0])):\n",
        "\t\tmax = 0\n",
        "\t\tloc = 0\n",
        "\t\tfor j in range(4):\n",
        "\t\t\tif profile[j][i] > max:\n",
        "\t\t\t\tloc = j\n",
        "\t\t\t\tmax = profile[j][i]\n",
        "\t\tstr+=numberToSymbol(loc)\n",
        "\treturn str\n",
        "\n",
        "def score(motifs):\n",
        "\tprofile = profileForm(motifs)\n",
        "\tcons = consensus(profile)\n",
        "\tscore = 0\n",
        "\tfor x in motifs:\n",
        "\t\tfor i in range(len(x)):\n",
        "\t\t\tif cons[i] != x[i]:\n",
        "\t\t\t\tscore += 1\n",
        "\treturn score\n",
        "\n",
        "def greedyMotifSearch(dna, k, t):\n",
        "\tbestMotifs = []\n",
        "\tfor x in dna:\n",
        "\t\tbestMotifs.append(x[0:k])\n",
        "\tfor i in range(len(dna[0])-k+1):\n",
        "\t\tmotifs = []\n",
        "\t\tmotifs.append(dna[0][i:i+k])\n",
        "\t\tfor j in range(1,t):\n",
        "\t\t\tprofile = profileForm(motifs)\n",
        "\t\t\tmotifs.append(profileProbable(dna[j], k, profile))\n",
        "\t\tif score(motifs) < score(bestMotifs):\n",
        "\t\t\tbestMotifs = motifs\n",
        "\treturn bestMotifs"
      ],
      "execution_count": 0,
      "outputs": []
    },
    {
      "cell_type": "code",
      "metadata": {
        "id": "VD7QmG8I3EIM",
        "colab_type": "code",
        "outputId": "7c721209-2aea-4001-af40-d6ffda14b954",
        "colab": {
          "base_uri": "https://localhost:8080/",
          "height": 34
        }
      },
      "source": [
        "greedyMotifSearch(dna, k, t)"
      ],
      "execution_count": 111,
      "outputs": [
        {
          "output_type": "execute_result",
          "data": {
            "text/plain": [
              "['TTC', 'ATC', 'TTC', 'ATC', 'TTC']"
            ]
          },
          "metadata": {
            "tags": []
          },
          "execution_count": 111
        }
      ]
    },
    {
      "cell_type": "code",
      "metadata": {
        "id": "waewfaKy3Gwy",
        "colab_type": "code",
        "colab": {}
      },
      "source": [
        "#ba2f\n",
        "import random\n",
        "k = 8\n",
        "t = 5\n",
        "dna = ['CGCCCCTCTCGGGGGTGTTCAGTAAACGGCCA','GGGCGAGGTATGTGTAAGTGCCAAGGTGCCAG','TAGTACCGAGACCGAAAGAAGTATACAGGCGT','TAGATCAAGTTTCAGGTGCACGTCGGTGAACC','AATCCACCAGCTCCACGTGCAATGTTGGCCTA']\n",
        "def symbolToNumber(symbol):\n",
        "\tif symbol == \"A\":\n",
        "\t\treturn 0\n",
        "\tif symbol == \"C\":\n",
        "\t\treturn 1\n",
        "\tif symbol == \"G\":\n",
        "\t\treturn 2\n",
        "\tif symbol == \"T\":\n",
        "\t\treturn 3\n",
        "\n",
        "def numberToPattern(x, k):\n",
        "\tif k == 1:\n",
        "\t\treturn numberToSymbol(x)\n",
        "\treturn numberToPattern(x // 4, k-1) + numberToSymbol(x % 4)\n",
        "\n",
        "def numberToSymbol(x):\n",
        "\tif x == 0:\n",
        "\t\treturn \"A\"\n",
        "\tif x == 1:\n",
        "\t\treturn \"C\"\n",
        "\tif x == 2:\n",
        "\t\treturn \"G\"\n",
        "\tif x == 3:\n",
        "\t\treturn \"T\"\n",
        "\n",
        "def profileProbable(s,k,profile):\n",
        "  dct  = {}\n",
        "  leng = len(s)\n",
        "  for i in range(leng-k+1):\n",
        "    ans = 1\n",
        "    ss = s[i:i+k]\n",
        "    for j in range(len(ss)):\n",
        "      if ss[j] == 'A':\n",
        "        ans *= profile[0][j]\n",
        "      elif ss[j] == 'C':\n",
        "        ans *= profile[1][j]\n",
        "      elif ss[j] == 'G':\n",
        "        ans *= profile[2][j]\n",
        "      elif ss[j] == 'T':\n",
        "        ans *= profile[3][j]\n",
        "    dct[ss] = ans\n",
        "  output = max(dct, key =dct.get)\n",
        "  return output\n",
        "\n",
        "def profileForm(motifs):\n",
        "\tk = len(motifs[0])\n",
        "\tprofile = [[1 for i in range(k)] for j in range(4)]\n",
        "\tfor x in motifs:\n",
        "\t\tfor i in range(len(x)):\n",
        "\t\t\tj = symbolToNumber(x[i])\n",
        "\t\t\tprofile[j][i] += 1\n",
        "\tfor x in profile:\n",
        "\t\tfor y in x:\n",
        "\t\t\ty = y/len(motifs)\n",
        "\treturn profile\n",
        "\n",
        "def consensus(profile):\n",
        "\tstr = \"\"\n",
        "\tfor i in range(len(profile[0])):\n",
        "\t\tmax = 0\n",
        "\t\tloc = 0\n",
        "\t\tfor j in range(4):\n",
        "\t\t\tif profile[j][i] > max:\n",
        "\t\t\t\tloc = j\n",
        "\t\t\t\tmax = profile[j][i]\n",
        "\t\tstr+=numberToSymbol(loc)\n",
        "\treturn str\n",
        "\n",
        "def score(motifs):\n",
        "\tprofile = profileForm(motifs)\n",
        "\tcons = consensus(profile)\n",
        "\tscore = 0\n",
        "\tfor x in motifs:\n",
        "\t\tfor i in range(len(x)):\n",
        "\t\t\tif cons[i] != x[i]:\n",
        "\t\t\t\tscore += 1\n",
        "\treturn score\n",
        "\n",
        "def randomMotifSearch(dna, k, t):\n",
        "\tbestMotifs = []\n",
        "\tmotifs = []\n",
        "\tfor x in range(t):\n",
        "\t\trandom.seed()\n",
        "\t\ti = random.randint(0, len(dna[x])-k+1)\n",
        "\t\tmotifs.append(dna[x][i:i+k])\n",
        "\tbestMotifs = motifs.copy()\n",
        "\tcount = 0\n",
        "\twhile True:\n",
        "\t\tprofile = profileForm(motifs)\n",
        "\t\tfor x in range(t):\n",
        "\t\t\tmotifs[x] = profileProbable(dna[x], k, profile)\n",
        "\t\tif score(motifs) < score(bestMotifs):\n",
        "\t\t\tbestMotifs = motifs.copy()\n",
        "\t\t\tcount+=1\n",
        "\t\telse:\n",
        "\t\t\treturn bestMotifs\n"
      ],
      "execution_count": 0,
      "outputs": []
    },
    {
      "cell_type": "code",
      "metadata": {
        "id": "4RGh8CNn-CMU",
        "colab_type": "code",
        "colab": {
          "base_uri": "https://localhost:8080/",
          "height": 34
        },
        "outputId": "8d197d68-a3b7-45f8-ab27-ee698beefb95"
      },
      "source": [
        "randomMotifSearch(dna, k, t)"
      ],
      "execution_count": 106,
      "outputs": [
        {
          "output_type": "execute_result",
          "data": {
            "text/plain": [
              "['GTTCAGTA', 'GCGAGGTA', 'AAGAAGTA', 'GATCAAGT', 'GCAATGTT']"
            ]
          },
          "metadata": {
            "tags": []
          },
          "execution_count": 106
        }
      ]
    },
    {
      "cell_type": "code",
      "metadata": {
        "id": "VTik8cYq_osC",
        "colab_type": "code",
        "colab": {}
      },
      "source": [
        "#ba2h\n",
        "pattern = 'AAA'\n",
        "Dna = ['TTACCTTAAC', 'GATATCTGTC', 'ACGGCGTTCG', 'CCCTAAAGAG', 'CGTCAGAGGT']\n",
        "def hamming_dist(s1,s2):\n",
        "  count = 0\n",
        "  for c1,c2 in zip(s1,s2):\n",
        "    if c1 != c2:\n",
        "      count += 1 \n",
        "  return count\n",
        "def DistanceBetweenPatternAndStrings(Pattern, Dna):\n",
        "  k = len(pattern)\n",
        "  dist = 0\n",
        "  for item in Dna:\n",
        "    hamm_dst = k+1000\n",
        "    for i in range(len(item)-k+1):\n",
        "      ss = item[i:i+k]\n",
        "      if hamm_dst > hamming_dist(pattern,ss):\n",
        "        hamm_dst = hamming_dist(pattern,ss)\n",
        "    dist += hamm_dst\n",
        "  return dist\n",
        "\n"
      ],
      "execution_count": 0,
      "outputs": []
    },
    {
      "cell_type": "code",
      "metadata": {
        "id": "4KfD_IyjHqOi",
        "colab_type": "code",
        "colab": {
          "base_uri": "https://localhost:8080/",
          "height": 34
        },
        "outputId": "b754a986-3d0c-436c-ad09-c709aee4ee05"
      },
      "source": [
        "DistanceBetweenPatternAndStrings(pattern, Dna)"
      ],
      "execution_count": 109,
      "outputs": [
        {
          "output_type": "execute_result",
          "data": {
            "text/plain": [
              "5"
            ]
          },
          "metadata": {
            "tags": []
          },
          "execution_count": 109
        }
      ]
    },
    {
      "cell_type": "code",
      "metadata": {
        "id": "qyrElc3AHsiH",
        "colab_type": "code",
        "colab": {}
      },
      "source": [
        ""
      ],
      "execution_count": 0,
      "outputs": []
    }
  ]
}